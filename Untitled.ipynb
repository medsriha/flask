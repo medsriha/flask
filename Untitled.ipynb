{
 "cells": [
  {
   "cell_type": "code",
   "execution_count": 1,
   "id": "f2896dd9-4749-4108-b0bf-a673a2866692",
   "metadata": {},
   "outputs": [
    {
     "name": "stderr",
     "output_type": "stream",
     "text": [
      "/Users/mo/anaconda3/envs/articulate/lib/python3.8/site-packages/tqdm/auto.py:21: TqdmWarning: IProgress not found. Please update jupyter and ipywidgets. See https://ipywidgets.readthedocs.io/en/stable/user_install.html\n",
      "  from .autonotebook import tqdm as notebook_tqdm\n"
     ]
    }
   ],
   "source": [
    "import datasets\n",
    "import numpy as np\n",
    "import time\n",
    "from sentence_transformers import SentenceTransformer\n",
    "from torch.utils.data import DataLoader\n",
    "\n",
    "model = SentenceTransformer('thenlper/gte-base')\n",
    "\n",
    "# Our sentences we like to encode\n",
    "dataset = datasets.load_dataset(\"paws\", \"labeled_final\")"
   ]
  },
  {
   "cell_type": "code",
   "execution_count": 2,
   "id": "39419225-42f9-4e04-9500-7d1f9344d2c9",
   "metadata": {},
   "outputs": [
    {
     "data": {
      "text/plain": [
       "Counter({0: 4464, 1: 3536})"
      ]
     },
     "execution_count": 2,
     "metadata": {},
     "output_type": "execute_result"
    }
   ],
   "source": [
    "from collections import Counter\n",
    "Counter(dataset['test']['label'])"
   ]
  },
  {
   "cell_type": "code",
   "execution_count": 3,
   "id": "4330011d-25ff-4f1e-bf3f-030264567c8c",
   "metadata": {},
   "outputs": [],
   "source": [
    "import requests\n",
    "\n",
    "headers = {\n",
    "    'Content-type':'application/json', \n",
    "    'Accept':'application/json'\n",
    "}\n",
    "\n",
    "url = 'http://127.0.0.1:5000/infr'"
   ]
  },
  {
   "cell_type": "code",
   "execution_count": 30,
   "id": "68e2b9e4-56e1-4b80-9465-7723a06eb836",
   "metadata": {},
   "outputs": [
    {
     "name": "stdout",
     "output_type": "stream",
     "text": [
      "CPU times: user 19.3 s, sys: 3.09 s, total: 22.4 s\n",
      "Wall time: 38.5 s\n"
     ]
    }
   ],
   "source": [
    "%%time\n",
    "scores = []\n",
    "def encode(sentences, model=model) -> np.array:\n",
    "    return model.encode(sentences)\n",
    "\n",
    "def dot_product(v) -> float:\n",
    "    return v[0] @ v[1] / (np.linalg.norm(v[0]) * np.linalg.norm(v[1]))\n",
    "\n",
    "def eval(sent1, sent2) -> float:\n",
    "    return dot_product(encode([sent1, sent2]))\n",
    "\n",
    "# for batch in DataLoader(dataset['test'], batch_size=100):\n",
    "for sample in dataset['test']:\n",
    "    # Concat\n",
    "    sentences = [sample['sentence1'], sample['sentence2']]\n",
    "\n",
    "    r = requests.post(url, \n",
    "                      json={'id': sample['id'],\n",
    "                            'pairs': sentences}, \n",
    "                      headers=headers)\n",
    "    score = r.json()['prediction']\n",
    "\n",
    "    if score:\n",
    "        for x in score:\n",
    "            scores.append(float(x))"
   ]
  },
  {
   "cell_type": "code",
   "execution_count": 32,
   "id": "2be5ceab-a25c-41cf-a4b3-95460adf63ec",
   "metadata": {},
   "outputs": [
    {
     "data": {
      "text/plain": [
       "15600"
      ]
     },
     "execution_count": 32,
     "metadata": {},
     "output_type": "execute_result"
    }
   ],
   "source": [
    "len(scores)"
   ]
  },
  {
   "cell_type": "code",
   "execution_count": 8,
   "id": "ddb9f9c2-84c6-4022-9c7d-9675dc4b3757",
   "metadata": {},
   "outputs": [],
   "source": [
    "# def single_thread(batch, eval):\n",
    "#     \"\"\"Compute the distance between two sentences\"\"\"\n",
    "#     return [eval(batch['sentence1'][i], \n",
    "#                  batch['sentence2'][i]) for i in range(len(batch['id']))]\n",
    "\n",
    "\n",
    "# inputs = dataset['test']\n",
    "# len_inputs = len(inputs)\n",
    "\n",
    "# n_batches = multiprocessing.cpu_count()\n",
    "# batch_size = len_inputs // n_batchesççç\n",
    "# batches = []\n",
    "\n",
    "\n",
    "# for i in range(batch_size):\n",
    "#     start = batch_size * i\n",
    "#     if i != n_batches -1:\n",
    "#         end = (i + 1) * batch_size \n",
    "#     else:\n",
    "#         end = len_inputs\n",
    "    \n",
    "#     batch = inputs[start:end]\n",
    "\n",
    "#     batches.append(batch)\n",
    "\n",
    "# results = Parallel(n_jobs = 4)(delayed(single_thread)(batch, eval) for batch in batches)\n",
    "\n",
    "# print(len(results), results[:100])"
   ]
  },
  {
   "cell_type": "code",
   "execution_count": null,
   "id": "ac0f48e1-f39d-4eda-9662-210ade2ab769",
   "metadata": {},
   "outputs": [],
   "source": []
  },
  {
   "cell_type": "code",
   "execution_count": null,
   "id": "0fa75394-6f9d-4c6d-a709-9dd2cbec5edd",
   "metadata": {},
   "outputs": [],
   "source": []
  }
 ],
 "metadata": {
  "kernelspec": {
   "display_name": "Python 3 (ipykernel)",
   "language": "python",
   "name": "python3"
  },
  "language_info": {
   "codemirror_mode": {
    "name": "ipython",
    "version": 3
   },
   "file_extension": ".py",
   "mimetype": "text/x-python",
   "name": "python",
   "nbconvert_exporter": "python",
   "pygments_lexer": "ipython3",
   "version": "3.8.18"
  }
 },
 "nbformat": 4,
 "nbformat_minor": 5
}
